{
 "cells": [
  {
   "cell_type": "code",
   "execution_count": 16,
   "id": "a56a215f-9ad7-4474-bd29-c21f8e8f761c",
   "metadata": {},
   "outputs": [],
   "source": [
    "import pandas as pd\n",
    "import re\n",
    "import nltk\n",
    "import joblib\n",
    "import matplotlib.pyplot as plt\n",
    "import seaborn as sns\n",
    "from sklearn.feature_extraction.text import TfidfVectorizer\n",
    "from sklearn.model_selection import train_test_split\n",
    "from sklearn.naive_bayes import MultinomialNB\n",
    "from sklearn.svm import SVC\n",
    "from sklearn.linear_model import LogisticRegression\n",
    "from sklearn.metrics import accuracy_score, classification_report\n",
    "from nltk.corpus import stopwords\n",
    "from nltk.stem import PorterStemmer\n",
    "from textblob import TextBlob\n",
    "from vaderSentiment.vaderSentiment import SentimentIntensityAnalyzer"
   ]
  },
  {
   "cell_type": "code",
   "execution_count": 17,
   "id": "002423ec-98d5-47bd-bb69-0087067e0b97",
   "metadata": {},
   "outputs": [],
   "source": [
    "data = pd.read_csv('srinivas_amazon_reviews.csv')"
   ]
  },
  {
   "cell_type": "code",
   "execution_count": 18,
   "id": "ab43fc77-b9d7-4c19-ab7b-5f82181d0813",
   "metadata": {},
   "outputs": [
    {
     "name": "stderr",
     "output_type": "stream",
     "text": [
      "[nltk_data] Downloading package stopwords to\n",
      "[nltk_data]     C:\\Users\\bojja\\AppData\\Roaming\\nltk_data...\n",
      "[nltk_data]   Package stopwords is already up-to-date!\n",
      "[nltk_data] Downloading package punkt to\n",
      "[nltk_data]     C:\\Users\\bojja\\AppData\\Roaming\\nltk_data...\n",
      "[nltk_data]   Package punkt is already up-to-date!\n"
     ]
    }
   ],
   "source": [
    "nltk.download(\"stopwords\")\n",
    "nltk.download(\"punkt\")\n",
    "stop_words = set(stopwords.words('english'))\n",
    "stemmer = PorterStemmer()"
   ]
  },
  {
   "cell_type": "code",
   "execution_count": 19,
   "id": "6a0f970f-2bce-49bb-a195-aaf6fa891e4b",
   "metadata": {},
   "outputs": [],
   "source": [
    "def preprocess_text(text):\n",
    "    if isinstance(text, float):\n",
    "        text = str(text)\n",
    "    text = text.lower()\n",
    "    text = re.sub(r'[\\[\\]\\(\\)\\.,;:?!\\\"\\'—–“”‘’]', '', text)\n",
    "    tokens = nltk.word_tokenize(text)\n",
    "    tokens = [stemmer.stem(word) for word in tokens if word.lower() not in stop_words]\n",
    "    return \" \".join(tokens)\n",
    "data['data'] = data['Review'].apply(preprocess_text)"
   ]
  },
  {
   "cell_type": "code",
   "execution_count": 20,
   "id": "1305e10e-4bf7-413a-8a2a-3bf002b162ef",
   "metadata": {},
   "outputs": [],
   "source": [
    "def get_sentiment(text):\n",
    "    analysis = TextBlob(text)\n",
    "    if analysis.sentiment.polarity > 0:\n",
    "        return 'positive'\n",
    "    elif analysis.sentiment.polarity == 0:\n",
    "        return 'neutral'\n",
    "    else:\n",
    "        return 'negative'\n",
    "\n",
    "data['target'] = data['data'].apply(get_sentiment)"
   ]
  },
  {
   "cell_type": "code",
   "execution_count": 21,
   "id": "713fd173-52a0-45a0-828b-8a459343790f",
   "metadata": {},
   "outputs": [
    {
     "data": {
      "text/html": [
       "<div>\n",
       "<style scoped>\n",
       "    .dataframe tbody tr th:only-of-type {\n",
       "        vertical-align: middle;\n",
       "    }\n",
       "\n",
       "    .dataframe tbody tr th {\n",
       "        vertical-align: top;\n",
       "    }\n",
       "\n",
       "    .dataframe thead th {\n",
       "        text-align: right;\n",
       "    }\n",
       "</style>\n",
       "<table border=\"1\" class=\"dataframe\">\n",
       "  <thead>\n",
       "    <tr style=\"text-align: right;\">\n",
       "      <th></th>\n",
       "      <th>Review</th>\n",
       "      <th>data</th>\n",
       "      <th>target</th>\n",
       "    </tr>\n",
       "  </thead>\n",
       "  <tbody>\n",
       "    <tr>\n",
       "      <th>0</th>\n",
       "      <td>I loved the style of this jacket and the revie...</td>\n",
       "      <td>love style jacket review good watchlist went s...</td>\n",
       "      <td>negative</td>\n",
       "    </tr>\n",
       "    <tr>\n",
       "      <th>1</th>\n",
       "      <td>I've had this jacket about a year now and I re...</td>\n",
       "      <td>ive jacket year realli feel compel leav review...</td>\n",
       "      <td>positive</td>\n",
       "    </tr>\n",
       "    <tr>\n",
       "      <th>2</th>\n",
       "      <td>This is the worst clothing purchase I've ever ...</td>\n",
       "      <td>worst cloth purchas ive ever made third time w...</td>\n",
       "      <td>negative</td>\n",
       "    </tr>\n",
       "    <tr>\n",
       "      <th>3</th>\n",
       "      <td>NaN</td>\n",
       "      <td>nan</td>\n",
       "      <td>neutral</td>\n",
       "    </tr>\n",
       "    <tr>\n",
       "      <th>4</th>\n",
       "      <td>This may be great for a someone who wants to p...</td>\n",
       "      <td>may great someon want pretend rug look functio...</td>\n",
       "      <td>positive</td>\n",
       "    </tr>\n",
       "    <tr>\n",
       "      <th>...</th>\n",
       "      <td>...</td>\n",
       "      <td>...</td>\n",
       "      <td>...</td>\n",
       "    </tr>\n",
       "    <tr>\n",
       "      <th>695</th>\n",
       "      <td>The fit and quality is great! My only gripe is...</td>\n",
       "      <td>fit qualiti great gripe pocket liner stitch pr...</td>\n",
       "      <td>positive</td>\n",
       "    </tr>\n",
       "    <tr>\n",
       "      <th>696</th>\n",
       "      <td>My husband first received one of these jackets...</td>\n",
       "      <td>husband first receiv one jacket gift wore love...</td>\n",
       "      <td>positive</td>\n",
       "    </tr>\n",
       "    <tr>\n",
       "      <th>697</th>\n",
       "      <td>My husband absolutely loves this jacket. We li...</td>\n",
       "      <td>husband absolut love jacket live florida much ...</td>\n",
       "      <td>positive</td>\n",
       "    </tr>\n",
       "    <tr>\n",
       "      <th>698</th>\n",
       "      <td>I can't say anything bad. I live in Iowa and r...</td>\n",
       "      <td>cant say anyth bad live iowa recent use jacket...</td>\n",
       "      <td>positive</td>\n",
       "    </tr>\n",
       "    <tr>\n",
       "      <th>699</th>\n",
       "      <td>Looks great on my husband. Material is really ...</td>\n",
       "      <td>look great husband materi realli nice perfect ...</td>\n",
       "      <td>positive</td>\n",
       "    </tr>\n",
       "  </tbody>\n",
       "</table>\n",
       "<p>700 rows × 3 columns</p>\n",
       "</div>"
      ],
      "text/plain": [
       "                                                Review  \\\n",
       "0    I loved the style of this jacket and the revie...   \n",
       "1    I've had this jacket about a year now and I re...   \n",
       "2    This is the worst clothing purchase I've ever ...   \n",
       "3                                                  NaN   \n",
       "4    This may be great for a someone who wants to p...   \n",
       "..                                                 ...   \n",
       "695  The fit and quality is great! My only gripe is...   \n",
       "696  My husband first received one of these jackets...   \n",
       "697  My husband absolutely loves this jacket. We li...   \n",
       "698  I can't say anything bad. I live in Iowa and r...   \n",
       "699  Looks great on my husband. Material is really ...   \n",
       "\n",
       "                                                  data    target  \n",
       "0    love style jacket review good watchlist went s...  negative  \n",
       "1    ive jacket year realli feel compel leav review...  positive  \n",
       "2    worst cloth purchas ive ever made third time w...  negative  \n",
       "3                                                  nan   neutral  \n",
       "4    may great someon want pretend rug look functio...  positive  \n",
       "..                                                 ...       ...  \n",
       "695  fit qualiti great gripe pocket liner stitch pr...  positive  \n",
       "696  husband first receiv one jacket gift wore love...  positive  \n",
       "697  husband absolut love jacket live florida much ...  positive  \n",
       "698  cant say anyth bad live iowa recent use jacket...  positive  \n",
       "699  look great husband materi realli nice perfect ...  positive  \n",
       "\n",
       "[700 rows x 3 columns]"
      ]
     },
     "execution_count": 21,
     "metadata": {},
     "output_type": "execute_result"
    }
   ],
   "source": [
    "data"
   ]
  },
  {
   "cell_type": "code",
   "execution_count": 22,
   "id": "2148eaff-0015-40fd-99a4-0b8c3e4f0f5c",
   "metadata": {},
   "outputs": [],
   "source": [
    "data['target'] = data['target'].apply(lambda x: 1 if x == \"positive\" else 0)"
   ]
  },
  {
   "cell_type": "code",
   "execution_count": 23,
   "id": "f6b31953-75e1-487f-8887-87c0d5f1d48d",
   "metadata": {},
   "outputs": [
    {
     "data": {
      "text/html": [
       "<div>\n",
       "<style scoped>\n",
       "    .dataframe tbody tr th:only-of-type {\n",
       "        vertical-align: middle;\n",
       "    }\n",
       "\n",
       "    .dataframe tbody tr th {\n",
       "        vertical-align: top;\n",
       "    }\n",
       "\n",
       "    .dataframe thead th {\n",
       "        text-align: right;\n",
       "    }\n",
       "</style>\n",
       "<table border=\"1\" class=\"dataframe\">\n",
       "  <thead>\n",
       "    <tr style=\"text-align: right;\">\n",
       "      <th></th>\n",
       "      <th>Review</th>\n",
       "      <th>data</th>\n",
       "      <th>target</th>\n",
       "    </tr>\n",
       "  </thead>\n",
       "  <tbody>\n",
       "    <tr>\n",
       "      <th>0</th>\n",
       "      <td>I loved the style of this jacket and the revie...</td>\n",
       "      <td>love style jacket review good watchlist went s...</td>\n",
       "      <td>0</td>\n",
       "    </tr>\n",
       "    <tr>\n",
       "      <th>1</th>\n",
       "      <td>I've had this jacket about a year now and I re...</td>\n",
       "      <td>ive jacket year realli feel compel leav review...</td>\n",
       "      <td>1</td>\n",
       "    </tr>\n",
       "    <tr>\n",
       "      <th>2</th>\n",
       "      <td>This is the worst clothing purchase I've ever ...</td>\n",
       "      <td>worst cloth purchas ive ever made third time w...</td>\n",
       "      <td>0</td>\n",
       "    </tr>\n",
       "    <tr>\n",
       "      <th>3</th>\n",
       "      <td>NaN</td>\n",
       "      <td>nan</td>\n",
       "      <td>0</td>\n",
       "    </tr>\n",
       "    <tr>\n",
       "      <th>4</th>\n",
       "      <td>This may be great for a someone who wants to p...</td>\n",
       "      <td>may great someon want pretend rug look functio...</td>\n",
       "      <td>1</td>\n",
       "    </tr>\n",
       "    <tr>\n",
       "      <th>...</th>\n",
       "      <td>...</td>\n",
       "      <td>...</td>\n",
       "      <td>...</td>\n",
       "    </tr>\n",
       "    <tr>\n",
       "      <th>695</th>\n",
       "      <td>The fit and quality is great! My only gripe is...</td>\n",
       "      <td>fit qualiti great gripe pocket liner stitch pr...</td>\n",
       "      <td>1</td>\n",
       "    </tr>\n",
       "    <tr>\n",
       "      <th>696</th>\n",
       "      <td>My husband first received one of these jackets...</td>\n",
       "      <td>husband first receiv one jacket gift wore love...</td>\n",
       "      <td>1</td>\n",
       "    </tr>\n",
       "    <tr>\n",
       "      <th>697</th>\n",
       "      <td>My husband absolutely loves this jacket. We li...</td>\n",
       "      <td>husband absolut love jacket live florida much ...</td>\n",
       "      <td>1</td>\n",
       "    </tr>\n",
       "    <tr>\n",
       "      <th>698</th>\n",
       "      <td>I can't say anything bad. I live in Iowa and r...</td>\n",
       "      <td>cant say anyth bad live iowa recent use jacket...</td>\n",
       "      <td>1</td>\n",
       "    </tr>\n",
       "    <tr>\n",
       "      <th>699</th>\n",
       "      <td>Looks great on my husband. Material is really ...</td>\n",
       "      <td>look great husband materi realli nice perfect ...</td>\n",
       "      <td>1</td>\n",
       "    </tr>\n",
       "  </tbody>\n",
       "</table>\n",
       "<p>700 rows × 3 columns</p>\n",
       "</div>"
      ],
      "text/plain": [
       "                                                Review  \\\n",
       "0    I loved the style of this jacket and the revie...   \n",
       "1    I've had this jacket about a year now and I re...   \n",
       "2    This is the worst clothing purchase I've ever ...   \n",
       "3                                                  NaN   \n",
       "4    This may be great for a someone who wants to p...   \n",
       "..                                                 ...   \n",
       "695  The fit and quality is great! My only gripe is...   \n",
       "696  My husband first received one of these jackets...   \n",
       "697  My husband absolutely loves this jacket. We li...   \n",
       "698  I can't say anything bad. I live in Iowa and r...   \n",
       "699  Looks great on my husband. Material is really ...   \n",
       "\n",
       "                                                  data  target  \n",
       "0    love style jacket review good watchlist went s...       0  \n",
       "1    ive jacket year realli feel compel leav review...       1  \n",
       "2    worst cloth purchas ive ever made third time w...       0  \n",
       "3                                                  nan       0  \n",
       "4    may great someon want pretend rug look functio...       1  \n",
       "..                                                 ...     ...  \n",
       "695  fit qualiti great gripe pocket liner stitch pr...       1  \n",
       "696  husband first receiv one jacket gift wore love...       1  \n",
       "697  husband absolut love jacket live florida much ...       1  \n",
       "698  cant say anyth bad live iowa recent use jacket...       1  \n",
       "699  look great husband materi realli nice perfect ...       1  \n",
       "\n",
       "[700 rows x 3 columns]"
      ]
     },
     "execution_count": 23,
     "metadata": {},
     "output_type": "execute_result"
    }
   ],
   "source": [
    "data"
   ]
  },
  {
   "cell_type": "code",
   "execution_count": 24,
   "id": "5ec978e4-f998-42a7-affa-67c0d95da5b1",
   "metadata": {},
   "outputs": [
    {
     "data": {
      "text/plain": [
       "target\n",
       "1    553\n",
       "0    147\n",
       "Name: count, dtype: int64"
      ]
     },
     "execution_count": 24,
     "metadata": {},
     "output_type": "execute_result"
    }
   ],
   "source": [
    "data['target'].value_counts()"
   ]
  },
  {
   "cell_type": "code",
   "execution_count": 25,
   "id": "697412fb-e8b9-48f5-8eb3-11e0e254cd39",
   "metadata": {},
   "outputs": [],
   "source": [
    "def preprocess_text(text):\n",
    "    text = re.sub(r'http\\S+', '', text)  # Remove URLs\n",
    "    text = re.sub(r'[^a-zA-Z\\s]', '', text)  # Remove punctuation\n",
    "    text = text.lower()  # Convert to lowercase\n",
    "    text = text.split()  # Split into words\n",
    "    ps = PorterStemmer()\n",
    "    text = [ps.stem(word) for word in text if not word in set(stopwords.words('english'))]  # Remove stopwords and stem words\n",
    "    text = ' '.join(text)\n",
    "    return text"
   ]
  },
  {
   "cell_type": "code",
   "execution_count": 26,
   "id": "df08030e-89d2-4036-83dc-1f1556db68ff",
   "metadata": {},
   "outputs": [],
   "source": [
    "data['text'] = data['data'].apply(preprocess_text)"
   ]
  },
  {
   "cell_type": "code",
   "execution_count": 27,
   "id": "c6bcd657-0622-4b97-a0e9-f778b1990ecf",
   "metadata": {},
   "outputs": [],
   "source": [
    "X = data['text']\n",
    "y = data['target']\n",
    "X_train, X_test, y_train, y_test = train_test_split(X, y, test_size=0.2, random_state=42)"
   ]
  },
  {
   "cell_type": "code",
   "execution_count": 28,
   "id": "996022b3-34c0-4030-93a3-39fd06697307",
   "metadata": {},
   "outputs": [],
   "source": [
    "vectorizer = TfidfVectorizer(max_features=5000)\n",
    "X_train_vect = vectorizer.fit_transform(X_train)\n",
    "X_test_vect = vectorizer.transform(X_test)"
   ]
  },
  {
   "cell_type": "code",
   "execution_count": 29,
   "id": "72abbe27-c4fa-4be1-abb3-92eab6ace8f2",
   "metadata": {},
   "outputs": [
    {
     "data": {
      "text/plain": [
       "['tfidf_vectorizer_ourdata.pkl']"
      ]
     },
     "execution_count": 29,
     "metadata": {},
     "output_type": "execute_result"
    }
   ],
   "source": [
    "joblib.dump(vectorizer, 'tfidf_vectorizer_ourdata.pkl')"
   ]
  },
  {
   "cell_type": "code",
   "execution_count": 30,
   "id": "27eb2e23-0533-4374-9220-821e91abe458",
   "metadata": {},
   "outputs": [
    {
     "data": {
      "text/plain": [
       "['naive_bayes_model1.pkl']"
      ]
     },
     "execution_count": 30,
     "metadata": {},
     "output_type": "execute_result"
    }
   ],
   "source": [
    "nb_model = MultinomialNB()\n",
    "nb_model.fit(X_train_vect, y_train)\n",
    "joblib.dump(nb_model, 'naive_bayes_model1.pkl')"
   ]
  },
  {
   "cell_type": "code",
   "execution_count": 31,
   "id": "dbec39c4-c040-49f3-9db9-05ed7d85292d",
   "metadata": {},
   "outputs": [
    {
     "data": {
      "text/plain": [
       "['svm_model1.pkl']"
      ]
     },
     "execution_count": 31,
     "metadata": {},
     "output_type": "execute_result"
    }
   ],
   "source": [
    "svm_model = SVC()\n",
    "svm_model.fit(X_train_vect, y_train)\n",
    "joblib.dump(svm_model, 'svm_model1.pkl')"
   ]
  },
  {
   "cell_type": "code",
   "execution_count": 32,
   "id": "516e4c9a-fb42-445c-b973-afa2779098f6",
   "metadata": {},
   "outputs": [
    {
     "data": {
      "text/plain": [
       "['logistic_regression_model1.pkl']"
      ]
     },
     "execution_count": 32,
     "metadata": {},
     "output_type": "execute_result"
    }
   ],
   "source": [
    "lr_model = LogisticRegression(max_iter=1000)\n",
    "lr_model.fit(X_train_vect, y_train)\n",
    "joblib.dump(lr_model, 'logistic_regression_model1.pkl')"
   ]
  },
  {
   "cell_type": "code",
   "execution_count": 33,
   "id": "fdd97ecd-862b-4278-8f4e-896eae096978",
   "metadata": {},
   "outputs": [],
   "source": [
    "y_pred_nb = nb_model.predict(X_test_vect)\n",
    "y_pred_svm = svm_model.predict(X_test_vect)\n",
    "y_pred_lr = lr_model.predict(X_test_vect)"
   ]
  },
  {
   "cell_type": "code",
   "execution_count": 34,
   "id": "091149f8-8b98-4f2a-a809-aaaf5d40c8a2",
   "metadata": {},
   "outputs": [
    {
     "name": "stdout",
     "output_type": "stream",
     "text": [
      "Naive Bayes Model\n",
      "Accuracy: 0.7857142857142857\n",
      "Classification Report:\n",
      "               precision    recall  f1-score   support\n",
      "\n",
      "           0       1.00      0.09      0.17        33\n",
      "           1       0.78      1.00      0.88       107\n",
      "\n",
      "    accuracy                           0.79       140\n",
      "   macro avg       0.89      0.55      0.52       140\n",
      "weighted avg       0.83      0.79      0.71       140\n",
      "\n",
      "SVM Model\n",
      "Accuracy: 0.8357142857142857\n",
      "Classification Report:\n",
      "               precision    recall  f1-score   support\n",
      "\n",
      "           0       1.00      0.30      0.47        33\n",
      "           1       0.82      1.00      0.90       107\n",
      "\n",
      "    accuracy                           0.84       140\n",
      "   macro avg       0.91      0.65      0.68       140\n",
      "weighted avg       0.86      0.84      0.80       140\n",
      "\n",
      "Logistic Regression Model\n",
      "Accuracy: 0.8285714285714286\n",
      "Classification Report:\n",
      "               precision    recall  f1-score   support\n",
      "\n",
      "           0       1.00      0.27      0.43        33\n",
      "           1       0.82      1.00      0.90       107\n",
      "\n",
      "    accuracy                           0.83       140\n",
      "   macro avg       0.91      0.64      0.66       140\n",
      "weighted avg       0.86      0.83      0.79       140\n",
      "\n"
     ]
    }
   ],
   "source": [
    "print(\"Naive Bayes Model\")\n",
    "print(\"Accuracy:\", accuracy_score(y_test, y_pred_nb))\n",
    "print(\"Classification Report:\\n\", classification_report(y_test, y_pred_nb))\n",
    "\n",
    "print(\"SVM Model\")\n",
    "print(\"Accuracy:\", accuracy_score(y_test, y_pred_svm))\n",
    "print(\"Classification Report:\\n\", classification_report(y_test, y_pred_svm))\n",
    "\n",
    "print(\"Logistic Regression Model\")\n",
    "print(\"Accuracy:\", accuracy_score(y_test, y_pred_lr))\n",
    "print(\"Classification Report:\\n\", classification_report(y_test, y_pred_lr))"
   ]
  },
  {
   "cell_type": "code",
   "execution_count": 35,
   "id": "69fefb5d-a56f-48e3-82e6-1be2679fa24c",
   "metadata": {},
   "outputs": [
    {
     "data": {
      "image/png": "[encoded data removed]",
      "text/plain": [
       "<Figure size 1000x500 with 1 Axes>"
      ]
     },
     "metadata": {},
     "output_type": "display_data"
    }
   ],
   "source": [
    "models = ['Naive Bayes', 'SVM', 'Logistic Regression']\n",
    "accuracies = [accuracy_score(y_test, y_pred_nb), accuracy_score(y_test, y_pred_svm), accuracy_score(y_test, y_pred_lr)]\n",
    "\n",
    "plt.figure(figsize=(10, 5))\n",
    "sns.barplot(x=models, y=accuracies)\n",
    "plt.title('Comparison of Model Accuracies')\n",
    "plt.ylabel('Accuracy')\n",
    "plt.show()"
   ]
  },
  {
   "cell_type": "code",
   "execution_count": null,
   "id": "98add8ec-7eaf-49ad-ad98-882538fca156",
   "metadata": {},
   "outputs": [],
   "source": []
  },
  {
   "cell_type": "code",
   "execution_count": null,
   "id": "bf72e501-bf89-4650-a0e3-95142fa698f1",
   "metadata": {},
   "outputs": [],
   "source": []
  },
  {
   "cell_type": "code",
   "execution_count": null,
   "id": "1835edd6-0c3e-4599-b619-aaab8a36db95",
   "metadata": {},
   "outputs": [],
   "source": []
  },
  {
   "cell_type": "code",
   "execution_count": null,
   "id": "4ef70103-7213-49ac-9e79-5931955f07ff",
   "metadata": {},
   "outputs": [],
   "source": []
  }
 ],
 "metadata": {
  "kernelspec": {
   "display_name": "Python 3 (ipykernel)",
   "language": "python",
   "name": "python3"
  },
  "language_info": {
   "codemirror_mode": {
    "name": "ipython",
    "version": 3
   },
   "file_extension": ".py",
   "mimetype": "text/x-python",
   "name": "python",
   "nbconvert_exporter": "python",
   "pygments_lexer": "ipython3",
   "version": "3.12.3"
  }
 },
 "nbformat": 4,
 "nbformat_minor": 5
}
